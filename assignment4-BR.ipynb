{
 "cells": [
  {
   "cell_type": "markdown",
   "id": "0435f8aa-dd39-4ba3-921a-1444a879a525",
   "metadata": {
    "deletable": false,
    "editable": false,
    "nbgrader": {
     "cell_type": "markdown",
     "checksum": "e99f0569a6ec0745610591c4d8a3a97e",
     "grade": false,
     "grade_id": "cell-f3d18601f09f29c0",
     "locked": true,
     "schema_version": 3,
     "solution": false,
     "task": false
    },
    "tags": []
   },
   "source": [
    "# MATH 215 Python Assignment 4\n",
    "\n",
    "## Instructions\n",
    "\n",
    "* Enter your solutions in cells with `YOUR CODE HERE` (all other cells are ignored by the autograder)\n",
    "* Run the tests to verify your work (and note some cells contain hidden tests)\n",
    "* Hidden tests only run during autograding\n",
    "* Do not import any pacakges (other than the standard packages in the cell below)\n",
    "* See [Python for UBC Math](https://ubcmath.github.io/python/) for instructions and examples\n",
    "* Submit the completed notebook to Canvas (download `.ipynb` file to your machine and then upload to Canvas)"
   ]
  },
  {
   "cell_type": "code",
   "execution_count": 26,
   "id": "be8584f3-9cee-46c8-b842-da2262c5dd68",
   "metadata": {
    "deletable": false,
    "editable": false,
    "nbgrader": {
     "cell_type": "code",
     "checksum": "1252883a100e2fbdacd2012a7c0860d2",
     "grade": false,
     "grade_id": "cell-3f46365129bf21a3",
     "locked": true,
     "schema_version": 3,
     "solution": false,
     "task": false
    },
    "tags": []
   },
   "outputs": [],
   "source": [
    "import numpy as np\n",
    "import matplotlib.pyplot as plt\n",
    "import scipy.linalg as la"
   ]
  },
  {
   "cell_type": "markdown",
   "id": "e04aeca3-1302-4ac4-9183-70de2f918f93",
   "metadata": {
    "deletable": false,
    "editable": false,
    "nbgrader": {
     "cell_type": "markdown",
     "checksum": "3dd8b5df39351819715c82ded6181fb3",
     "grade": false,
     "grade_id": "cell-9cd8dbe844cd5a9b",
     "locked": true,
     "schema_version": 3,
     "solution": false,
     "task": false
    },
    "tags": []
   },
   "source": [
    "## Eigenvalues and Eigenvectors\n",
    "\n",
    "The function `scipy.linalg.eig` computes the eigenvalues and eigenvectors of a matrix $A$. The function returns an array `evals` of eigenvalues and a matrix `evecs` of eigenvectors such that column `evecs[:,i]` corresponds to the eigenvalue `evals[i]`.\n",
    "\n",
    "For example, consider the matrix\n",
    "\n",
    "$$\n",
    "A = \\begin{bmatrix} 1 & 2 \\\\ 2 & 1 \\end{bmatrix}\n",
    "$$\n",
    "\n",
    "The characteristic polynomial is\n",
    "\n",
    "$$\n",
    "p(x) = x^2 - 2x + 3 = (x - 3)(x + 1)\n",
    "$$\n",
    "\n",
    "The eigenvalues are $\\lambda_0 = 3$ and $\\lambda_1 = -1$ with corresponding (unit) eigenvectors\n",
    "\n",
    "$$\n",
    "\\mathbf{v}_0 = \\frac{1}{\\sqrt{2}} \\begin{bmatrix} 1 \\\\ 1 \\end{bmatrix}\n",
    "\\hspace{20mm}\n",
    "\\mathbf{v}_1 = \\frac{1}{\\sqrt{2}} \\begin{bmatrix} -1 \\\\ 1 \\end{bmatrix}\n",
    "$$\n",
    "\n",
    "Compute the eigenvalues and eigenvectors using `scipy.linalg.eig`:"
   ]
  },
  {
   "cell_type": "code",
   "execution_count": 27,
   "id": "00fdd695-522b-4478-9ba4-71b838cc89dc",
   "metadata": {
    "deletable": false,
    "editable": false,
    "nbgrader": {
     "cell_type": "code",
     "checksum": "0a804b059a68f1549bd916a926acdfbe",
     "grade": false,
     "grade_id": "cell-e1e8496c38e1ddb7",
     "locked": true,
     "schema_version": 3,
     "solution": false,
     "task": false
    },
    "tags": []
   },
   "outputs": [],
   "source": [
    "A = np.array([[1,2],[2,1]])\n",
    "evals,evecs = la.eig(A)"
   ]
  },
  {
   "cell_type": "code",
   "execution_count": 28,
   "id": "adcc01b8-d027-4e1a-bba8-c63958d73177",
   "metadata": {
    "deletable": false,
    "editable": false,
    "nbgrader": {
     "cell_type": "code",
     "checksum": "af19af7f85bdd90cde5e0f04e8202f98",
     "grade": false,
     "grade_id": "cell-74480262e1f72a46",
     "locked": true,
     "schema_version": 3,
     "solution": false,
     "task": false
    },
    "tags": []
   },
   "outputs": [
    {
     "data": {
      "text/plain": [
       "array([ 3.+0.j, -1.+0.j])"
      ]
     },
     "execution_count": 28,
     "metadata": {},
     "output_type": "execute_result"
    }
   ],
   "source": [
    "evals"
   ]
  },
  {
   "cell_type": "code",
   "execution_count": 29,
   "id": "c21ffa96-3b42-4216-9c2e-5f816ea8c1c6",
   "metadata": {
    "deletable": false,
    "editable": false,
    "nbgrader": {
     "cell_type": "code",
     "checksum": "c1c64e8036f196d1efaf0ab9b7d87ba2",
     "grade": false,
     "grade_id": "cell-e9956f9ee6698fd9",
     "locked": true,
     "schema_version": 3,
     "solution": false,
     "task": false
    },
    "tags": []
   },
   "outputs": [
    {
     "data": {
      "text/plain": [
       "array([[ 0.70710678, -0.70710678],\n",
       "       [ 0.70710678,  0.70710678]])"
      ]
     },
     "execution_count": 29,
     "metadata": {},
     "output_type": "execute_result"
    }
   ],
   "source": [
    "evecs"
   ]
  },
  {
   "cell_type": "markdown",
   "id": "5cf714de-23cb-452a-8082-042ae38b7350",
   "metadata": {
    "deletable": false,
    "editable": false,
    "nbgrader": {
     "cell_type": "markdown",
     "checksum": "f6fd983b2511b7d1de6ff33a3f01dd13",
     "grade": false,
     "grade_id": "cell-2445bb041c39d3ff",
     "locked": true,
     "schema_version": 3,
     "solution": false,
     "task": false
    },
    "tags": []
   },
   "source": [
    "Note that eigenvalues are always returned as complex numbers even if the values are (theoretically) real numbers. We can use the function `np.real` to select the real part of an array."
   ]
  },
  {
   "cell_type": "code",
   "execution_count": 30,
   "id": "f8020e50-0263-4cbc-9f0e-310c1337167c",
   "metadata": {
    "deletable": false,
    "editable": false,
    "nbgrader": {
     "cell_type": "code",
     "checksum": "96feba190d260ea4cddcf7980ad6cc39",
     "grade": false,
     "grade_id": "cell-44ada1ed52966137",
     "locked": true,
     "schema_version": 3,
     "solution": false,
     "task": false
    },
    "tags": []
   },
   "outputs": [
    {
     "data": {
      "text/plain": [
       "array([ 3., -1.])"
      ]
     },
     "execution_count": 30,
     "metadata": {},
     "output_type": "execute_result"
    }
   ],
   "source": [
    "np.real(evals)"
   ]
  },
  {
   "cell_type": "markdown",
   "id": "3514a4c3-7fe4-4d9f-b428-6b044902a199",
   "metadata": {
    "deletable": false,
    "editable": false,
    "nbgrader": {
     "cell_type": "markdown",
     "checksum": "e9284e001da9525481bc877305ee24d5",
     "grade": false,
     "grade_id": "cell-57bca83d2852bbaa",
     "locked": true,
     "schema_version": 3,
     "solution": false,
     "task": false
    }
   },
   "source": [
    "## Solutions of First Order Linear Systems\n",
    "\n",
    "Let $A$ be a $d \\times d$ matrix with **distinct eigenvalues**. The general solution of the $d$-dimensional first order linear homogeneous system of differential equations $\\mathbf{x}' = A \\mathbf{x}$ is given by\n",
    "\n",
    "$$\n",
    "\\mathbf{x}(t) = c_0 e^{\\lambda_0 t} \\mathbf{v}_0 + c_1 e^{\\lambda_1 t} \\mathbf{v}_1 + \\cdots + c_{d-1} e^{\\lambda_{d-1} t} \\mathbf{v}_{d-1}\n",
    "$$\n",
    "\n",
    "where:\n",
    "\n",
    "* $\\lambda_0,\\lambda_1,\\dots,\\lambda_{d-1}$ are the eigenvalues of $A$\n",
    "* $\\mathbf{v}_0,\\mathbf{v}_1,\\dots,\\mathbf{v}_{d-1}$ are the corresponding eigenvectors of $A$\n",
    "* $c_0,c_1,\\dots,c_{d-1}$ are coefficients which are determined by the initial conditions $\\mathbf{x}(0)$\n",
    "\n",
    "The function `odeA` defined below takes input parameters `A`, `x0` and `t` where:\n",
    "\n",
    "* `A` is a square matrix of size $d \\times d$\n",
    "* `x0` is a vector of length $d$ representing the initial values $\\mathbf{x}(t_0) = \\mathbf{x}_0$\n",
    "* `t` is a vector of $t$ values starting with $t_0$\n",
    "\n",
    "The function `odeA` returns a matrix `x` such that:\n",
    "\n",
    "* the number of rows of `x` is equal to the length of `t`\n",
    "* the number of columns of `x` is equal to the dimension $d$ of the system\n",
    "* the first row `x[0,:]` is the vector of initial values $\\mathbf{x}(t_0) = \\mathbf{x}_0$\n",
    "* the row `x[n,:]` at index $n$ is the vector of approximations of the solution $\\mathbf{x}(t_n)$ at time $t_n$\n",
    "* the value $t_n$ is the entry `t[n]` at index $n$ in the input array `t`\n",
    "* the column `x[:,i]` is the vector of approximations of the function $x_i(t)$\n",
    "\n",
    "**Important**: The funciton `odeA` only works for real matrices with **distinct** eigenvalues. We need to do something different for repeated eigenvalues."
   ]
  },
  {
   "cell_type": "code",
   "execution_count": 31,
   "id": "17529e75-f237-4b4d-a8d7-196031bffd6f",
   "metadata": {
    "deletable": false,
    "editable": false,
    "nbgrader": {
     "cell_type": "code",
     "checksum": "2ee5234286b6768bea142ae8a720b280",
     "grade": false,
     "grade_id": "cell-ebde4709ae6ccba6",
     "locked": true,
     "schema_version": 3,
     "solution": false,
     "task": false
    },
    "tags": []
   },
   "outputs": [],
   "source": [
    "def odeA(A,x0,t):\n",
    "    D,V = la.eig(A)\n",
    "    c = la.solve(V,x0)\n",
    "    C = np.diag(c)\n",
    "    x = (V@C@np.exp(np.outer(D,t))).T.real\n",
    "    return x"
   ]
  },
  {
   "cell_type": "markdown",
   "id": "4b58c14a-ec53-4dd4-9675-edfd50abb016",
   "metadata": {
    "deletable": false,
    "editable": false,
    "nbgrader": {
     "cell_type": "markdown",
     "checksum": "18421b50b8c778bab82861a12d00b94d",
     "grade": false,
     "grade_id": "cell-81cd17cb921ca0ed",
     "locked": true,
     "schema_version": 3,
     "solution": false,
     "task": false
    },
    "tags": []
   },
   "source": [
    "For example, let compute the solution of the system $\\mathbf{x}' = A \\mathbf{x}$ where\n",
    "\n",
    "$$\n",
    "A = \\begin{bmatrix} -4 & -5 \\\\ 5 & 3 \\end{bmatrix}\n",
    "$$\n",
    "\n",
    "and $\\mathbf{x}(0) = [1,1]$. Compute the solution for $t \\in [0,10]$ using $201$ values."
   ]
  },
  {
   "cell_type": "code",
   "execution_count": 32,
   "id": "ebd8a75c-2f3d-4dd8-912b-9bb1f60552df",
   "metadata": {
    "deletable": false,
    "editable": false,
    "nbgrader": {
     "cell_type": "code",
     "checksum": "54622951aec0770b3b64d39b3f6b9c63",
     "grade": false,
     "grade_id": "cell-db9559c8ff381aad",
     "locked": true,
     "schema_version": 3,
     "solution": false,
     "task": false
    },
    "tags": []
   },
   "outputs": [],
   "source": [
    "A = np.array([[-4.,-5],[5.,3.]])\n",
    "x0 = np.array([1.,1.])\n",
    "t = np.linspace(0,10,201)\n",
    "x = odeA(A,x0,t)"
   ]
  },
  {
   "cell_type": "markdown",
   "id": "67956e00-f95d-4ae5-aa1d-f19358e8a7c9",
   "metadata": {
    "deletable": false,
    "editable": false,
    "nbgrader": {
     "cell_type": "markdown",
     "checksum": "63ca45ac3b6cc9b87cdd0c497ab776c0",
     "grade": false,
     "grade_id": "cell-8a5b6b3655c973a7",
     "locked": true,
     "schema_version": 3,
     "solution": false,
     "task": false
    }
   },
   "source": [
    "Check the size of `x`."
   ]
  },
  {
   "cell_type": "code",
   "execution_count": 33,
   "id": "1b03aca5-278c-43aa-9b78-d4cd504bfc08",
   "metadata": {
    "deletable": false,
    "editable": false,
    "nbgrader": {
     "cell_type": "code",
     "checksum": "6268d2b51027c0d345e71798cdc92387",
     "grade": false,
     "grade_id": "cell-363c8c0b0311875b",
     "locked": true,
     "schema_version": 3,
     "solution": false,
     "task": false
    },
    "tags": []
   },
   "outputs": [
    {
     "data": {
      "text/plain": [
       "(201, 2)"
      ]
     },
     "execution_count": 33,
     "metadata": {},
     "output_type": "execute_result"
    }
   ],
   "source": [
    "x.shape"
   ]
  },
  {
   "cell_type": "markdown",
   "id": "3baa2876-8fdc-4291-9db7-f51ad0bec149",
   "metadata": {
    "deletable": false,
    "editable": false,
    "nbgrader": {
     "cell_type": "markdown",
     "checksum": "38b12a62a24255c46d24edeb83f92a99",
     "grade": false,
     "grade_id": "cell-5b4224f96dc741e4",
     "locked": true,
     "schema_version": 3,
     "solution": false,
     "task": false
    }
   },
   "source": [
    "Plot the columns of `x` with respect to `t`."
   ]
  },
  {
   "cell_type": "code",
   "execution_count": 34,
   "id": "c69d4d65-5785-4486-93c6-470d2841b46d",
   "metadata": {
    "deletable": false,
    "editable": false,
    "nbgrader": {
     "cell_type": "code",
     "checksum": "a33b5b0dc1fc9b9864661c0f715ad36f",
     "grade": false,
     "grade_id": "cell-de693b04579f5f50",
     "locked": true,
     "schema_version": 3,
     "solution": false,
     "task": false
    },
    "tags": []
   },
   "outputs": [
    {
     "data": {
      "image/png": "[encoded data removed]",
      "text/plain": [
       "<Figure size 640x480 with 1 Axes>"
      ]
     },
     "metadata": {},
     "output_type": "display_data"
    }
   ],
   "source": [
    "plt.plot(t,x)\n",
    "plt.legend(['$x_0(t)$','$x_1(t)$'])\n",
    "plt.show()"
   ]
  },
  {
   "cell_type": "markdown",
   "id": "2af2afb4-b96f-4cd1-8a16-e3213eee09c1",
   "metadata": {
    "deletable": false,
    "editable": false,
    "nbgrader": {
     "cell_type": "markdown",
     "checksum": "a73d857ab3cf49e38c28f9d0c9637e30",
     "grade": false,
     "grade_id": "cell-6e4eeb4a9f671d1c",
     "locked": true,
     "schema_version": 3,
     "solution": false,
     "task": false
    }
   },
   "source": [
    "Plot the trajectory $(x_0(t),x_1(t))$:"
   ]
  },
  {
   "cell_type": "code",
   "execution_count": 35,
   "id": "89e678e5-30c7-4402-942a-1b6bab7cd4a5",
   "metadata": {
    "deletable": false,
    "editable": false,
    "nbgrader": {
     "cell_type": "code",
     "checksum": "d44e3f2131ea4378b426af6fa6feb019",
     "grade": false,
     "grade_id": "cell-f935f7639315e2f2",
     "locked": true,
     "schema_version": 3,
     "solution": false,
     "task": false
    },
    "tags": []
   },
   "outputs": [
    {
     "data": {
      "image/png": "[encoded data removed]",
      "text/plain": [
       "<Figure size 640x480 with 1 Axes>"
      ]
     },
     "metadata": {},
     "output_type": "display_data"
    }
   ],
   "source": [
    "plt.plot(x[:,0],x[:,1])\n",
    "plt.show()"
   ]
  },
  {
   "cell_type": "markdown",
   "id": "03c62d61-eb4e-4c28-8bf6-f4208ae010a5",
   "metadata": {
    "deletable": false,
    "editable": false,
    "nbgrader": {
     "cell_type": "markdown",
     "checksum": "d1e68b47c028f5a84640b6225e856b2d",
     "grade": false,
     "grade_id": "cell-e221a6862c4de484",
     "locked": true,
     "schema_version": 3,
     "solution": false,
     "task": false
    }
   },
   "source": [
    "## Problem 1 (5 marks)\n",
    "\n",
    "Consider the linear system of differential equations $\\mathbf{x}' = A \\mathbf{x}$ where\n",
    "\n",
    "$$\n",
    "A = \\left[ \\begin{array}{rrr} -1 & 1 & 0 \\\\ 1 & 1 & 1 \\\\ 0 & 1 & 1 \\end{array} \\right]\n",
    "$$\n",
    "\n",
    "**Part A.** The matrix $A$ is symmetric and thereofre the eigenvalues are real. Compute the eigenvalues of $A$, select the real part and save the **largest** eigenvalue as `lambda1a`. We are expecting the value accurate to at least 8 decimal places."
   ]
  },
  {
   "cell_type": "code",
   "execution_count": 36,
   "id": "aa431684-6448-4910-9064-d62cfa56a308",
   "metadata": {
    "deletable": false,
    "nbgrader": {
     "cell_type": "code",
     "checksum": "900d493bde487027588bb632aa96b605",
     "grade": false,
     "grade_id": "cell-bc5b461c00b25fc9",
     "locked": false,
     "schema_version": 3,
     "solution": true,
     "task": false
    },
    "tags": []
   },
   "outputs": [
    {
     "name": "stdout",
     "output_type": "stream",
     "text": [
      "The largest eigenvalue is: 2.1700864866260337\n"
     ]
    }
   ],
   "source": [
    "# YOUR CODE HERE\n",
    "# Define the matrix A\n",
    "A = np.array([[-1, 1, 0],\n",
    "              [ 1, 1, 1],\n",
    "              [ 0, 1, 1]])\n",
    "\n",
    "# Compute eigenvalues of A\n",
    "eigenvalues = np.linalg.eigvals(A)\n",
    "\n",
    "# Extract the real parts of the eigenvalues\n",
    "real_eigenvalues = np.real(eigenvalues)\n",
    "\n",
    "# Find the largest eigenvalue\n",
    "lambda1a = np.max(real_eigenvalues)\n",
    "\n",
    "# Print the largest eigenvalue\n",
    "print(\"The largest eigenvalue is:\", lambda1a)"
   ]
  },
  {
   "cell_type": "code",
   "execution_count": 37,
   "id": "b731f219-57b1-44ea-a101-ff5592cd5aa3",
   "metadata": {
    "deletable": false,
    "editable": false,
    "nbgrader": {
     "cell_type": "code",
     "checksum": "900e11b4f41440258bbfc1bcae19f716",
     "grade": true,
     "grade_id": "cell-3252f4afb10b7b36",
     "locked": true,
     "points": 1,
     "schema_version": 3,
     "solution": false,
     "task": false
    },
    "tags": []
   },
   "outputs": [
    {
     "name": "stdout",
     "output_type": "stream",
     "text": [
      "Test 1: Success!\n"
     ]
    }
   ],
   "source": [
    "# Test 1: Check if lambda1a is a positive number. (1 mark)\n",
    "assert lambda1a > 0 , \"lambda1a should be positive.\"\n",
    "print(\"Test 1: Success!\")"
   ]
  },
  {
   "cell_type": "code",
   "execution_count": 38,
   "id": "c7afcb6b-45b7-494c-8fa8-325c945289a6",
   "metadata": {
    "deletable": false,
    "editable": false,
    "nbgrader": {
     "cell_type": "code",
     "checksum": "e78217d6c6ab5d3fdedd6bbc82c2263d",
     "grade": true,
     "grade_id": "cell-b98c7716d59ac5b2",
     "locked": true,
     "points": 1,
     "schema_version": 3,
     "solution": false,
     "task": false
    },
    "tags": []
   },
   "outputs": [
    {
     "name": "stdout",
     "output_type": "stream",
     "text": [
      "Test 2: Success!\n"
     ]
    }
   ],
   "source": [
    "## Test 2: Check if lambda1a is approximately 2.2. (1 mark)\n",
    "assert np.round(lambda1a,1) == 2.2 , \"lambda1a should be approximately 2.2.\"\n",
    "print(\"Test 2: Success!\")"
   ]
  },
  {
   "cell_type": "code",
   "execution_count": 39,
   "id": "663fe992-8af4-468e-be3b-7d8d94ce4d60",
   "metadata": {
    "deletable": false,
    "editable": false,
    "nbgrader": {
     "cell_type": "code",
     "checksum": "44c3030682e617a8204d6e310d9877c4",
     "grade": true,
     "grade_id": "cell-a870796e502e4695",
     "locked": true,
     "points": 1,
     "schema_version": 3,
     "solution": false,
     "task": false
    },
    "tags": []
   },
   "outputs": [],
   "source": [
    "# Test 3: Check if lambda1a is the correct value. This cell contains hidden tests. (1 mark)"
   ]
  },
  {
   "cell_type": "markdown",
   "id": "cf4a40eb-f548-4f67-bdd8-46b99f3d3191",
   "metadata": {
    "deletable": false,
    "editable": false,
    "nbgrader": {
     "cell_type": "markdown",
     "checksum": "1d91726d041c42b299d35701722fd9f4",
     "grade": false,
     "grade_id": "cell-7bf7901cdf84f8f5",
     "locked": true,
     "schema_version": 3,
     "solution": false,
     "task": false
    },
    "tags": []
   },
   "source": [
    "**Part B.** Determine whether the following statement is **True** or **False**: There exists a (nonzero) initial value vector $\\mathbf{x}(0)$ such that the corresponding solution $\\mathbf{x}(t)$ of the system $\\mathbf{x}' = A \\mathbf{x}$ (with matrix $A$ as in part (a) above) satisfies $\\| \\mathbf{x}(t) \\| \\to 0$ as $t \\to \\infty$. Enter your response as either `True` or `False` and save as `observation1b`."
   ]
  },
  {
   "cell_type": "code",
   "execution_count": 40,
   "id": "db8fb445-9038-4441-99f1-1f7b9b45980c",
   "metadata": {
    "deletable": false,
    "nbgrader": {
     "cell_type": "code",
     "checksum": "636c3b146b12a9db36833791aacbbd51",
     "grade": false,
     "grade_id": "cell-6ae22073fc6ae3fe",
     "locked": false,
     "schema_version": 3,
     "solution": true,
     "task": false
    },
    "tags": []
   },
   "outputs": [],
   "source": [
    "# YOUR CODE HERE\n",
    "observation1b = False"
   ]
  },
  {
   "cell_type": "code",
   "execution_count": 41,
   "id": "4d33ab1f-b76e-459f-82ae-9ccec22802ff",
   "metadata": {
    "deletable": false,
    "editable": false,
    "nbgrader": {
     "cell_type": "code",
     "checksum": "c8ace497192188b74ed534755882d05f",
     "grade": true,
     "grade_id": "cell-42bff96b277bfe9f",
     "locked": true,
     "points": 1,
     "schema_version": 3,
     "solution": false,
     "task": false
    },
    "tags": []
   },
   "outputs": [
    {
     "name": "stdout",
     "output_type": "stream",
     "text": [
      "Test 1: Success!\n"
     ]
    }
   ],
   "source": [
    "# Test 1: Check if observation1b is True or False. (1 mark)\n",
    "assert isinstance(observation1b,bool) , \"observation1b should be True or False.\"\n",
    "print(\"Test 1: Success!\")"
   ]
  },
  {
   "cell_type": "code",
   "execution_count": 42,
   "id": "46f425cb-edd6-429e-ba63-93d19d230fc5",
   "metadata": {
    "deletable": false,
    "editable": false,
    "nbgrader": {
     "cell_type": "code",
     "checksum": "d016012f95af85fbddde2a96fe07daf6",
     "grade": true,
     "grade_id": "cell-362879346b7bf513",
     "locked": true,
     "points": 1,
     "schema_version": 3,
     "solution": false,
     "task": false
    },
    "tags": []
   },
   "outputs": [],
   "source": [
    "# Test 2: Check if observation1b is the correct value. This cell contains hidden tests. (1 mark)"
   ]
  },
  {
   "cell_type": "markdown",
   "id": "7fcc59e3-b83c-4000-aef6-bba04b79ecbe",
   "metadata": {
    "deletable": false,
    "editable": false,
    "nbgrader": {
     "cell_type": "markdown",
     "checksum": "b2e9d2f44395ac1c2fadb92503a8f531",
     "grade": false,
     "grade_id": "cell-7ec6b3cb5c81343e",
     "locked": true,
     "schema_version": 3,
     "solution": false,
     "task": false
    },
    "tags": []
   },
   "source": [
    "## Problem 2 (4 marks)\n",
    "\n",
    "Use the function `odeA` (defined above) to compute the solution of the system $\\mathbf{x}' = A\\mathbf{x}$ for the matrix\n",
    "\n",
    "$$\n",
    "A = \\begin{bmatrix} -1 & -1 \\\\ 1 & -1 \\end{bmatrix}\n",
    "$$\n",
    "\n",
    "with initial condition $\\mathbf{x}(0) = (1,-1)$. Compute the solution for $t \\in [0,4]$ and use at least 100 $t$ values. Save the result as `x2`."
   ]
  },
  {
   "cell_type": "code",
   "execution_count": 43,
   "id": "a9d19afc-bb27-4f64-87b6-aa5e0a35d57e",
   "metadata": {
    "deletable": false,
    "nbgrader": {
     "cell_type": "code",
     "checksum": "8769d180f38b33efa2cebdce67d70359",
     "grade": false,
     "grade_id": "cell-6812d7b002c895a5",
     "locked": false,
     "schema_version": 3,
     "solution": true,
     "task": false
    },
    "tags": []
   },
   "outputs": [],
   "source": [
    "# YOUR CODE HERE\n",
    "A = np.array([[-1.,-1.], [1.,-1.]])\n",
    "x0 = np.array([1.,-1.])\n",
    "t = np.linspace(0,4,101)\n",
    "x2 = odeA(A,x0,t)"
   ]
  },
  {
   "cell_type": "code",
   "execution_count": 44,
   "id": "2f5c5e7c-cfcf-4dd3-9db7-db45a6d5fac2",
   "metadata": {
    "deletable": false,
    "editable": false,
    "nbgrader": {
     "cell_type": "code",
     "checksum": "76280c870507bc70d8cf82ccea4163e0",
     "grade": true,
     "grade_id": "cell-727569f6043e7b16",
     "locked": true,
     "points": 1,
     "schema_version": 3,
     "solution": false,
     "task": false
    },
    "tags": []
   },
   "outputs": [
    {
     "name": "stdout",
     "output_type": "stream",
     "text": [
      "Test 1: Success!\n"
     ]
    }
   ],
   "source": [
    "# Test 1: Check if x2 is a NumPy array. (1 mark)\n",
    "assert isinstance(x2,np.ndarray) , \"x2 should be a NumPy array.\"\n",
    "print(\"Test 1: Success!\")"
   ]
  },
  {
   "cell_type": "code",
   "execution_count": 45,
   "id": "96180d3f-2c7f-4106-a20b-64d431a4c5cf",
   "metadata": {
    "deletable": false,
    "editable": false,
    "nbgrader": {
     "cell_type": "code",
     "checksum": "54041abaaf921c792c6144083dfa47dc",
     "grade": true,
     "grade_id": "cell-f1734819a4ec5cfb",
     "locked": true,
     "points": 1,
     "schema_version": 3,
     "solution": false,
     "task": false
    },
    "tags": []
   },
   "outputs": [
    {
     "name": "stdout",
     "output_type": "stream",
     "text": [
      "Test 2: Success!\n"
     ]
    }
   ],
   "source": [
    "# Test 2: Check if x2 is has 2 columns and at least 100 rows. (1 mark)\n",
    "assert x2.shape[0] >= 100 , \"x2 should have at least 100 rows.\"\n",
    "assert x2.shape[1] == 2 , \"x2 should have 2 columns.\"\n",
    "print(\"Test 2: Success!\")"
   ]
  },
  {
   "cell_type": "code",
   "execution_count": 46,
   "id": "b43de029-7639-41aa-afcf-0e9111ee91fa",
   "metadata": {
    "deletable": false,
    "editable": false,
    "nbgrader": {
     "cell_type": "code",
     "checksum": "fb0c775e15bad65d05eb7336789e5767",
     "grade": true,
     "grade_id": "cell-82f31cf5e21d4a55",
     "locked": true,
     "points": 1,
     "schema_version": 3,
     "solution": false,
     "task": false
    },
    "tags": []
   },
   "outputs": [
    {
     "name": "stdout",
     "output_type": "stream",
     "text": [
      "Test 3: Success!\n"
     ]
    }
   ],
   "source": [
    "# Test 3: Check if x2 has the correct initial values and last values. (1 mark)\n",
    "assert np.allclose(x2[0,:],[1,-1])  , \"First row of x2 should be [1,-1].\"\n",
    "assert np.allclose(x2[-1,:],[-0.02583322,-0.00188942],rtol=0,atol=0.1)  , \"Last row of x2 should be approximately [-0.026, -0.002].\"\n",
    "print(\"Test 3: Success!\")"
   ]
  },
  {
   "cell_type": "code",
   "execution_count": 47,
   "id": "c947a7e8-9bef-4946-aba9-f3cad23f8feb",
   "metadata": {
    "deletable": false,
    "editable": false,
    "nbgrader": {
     "cell_type": "code",
     "checksum": "895bb5f234712d07508285b1574d4c80",
     "grade": true,
     "grade_id": "cell-166aebad5c28ac2b",
     "locked": true,
     "points": 1,
     "schema_version": 3,
     "solution": false,
     "task": false
    },
    "tags": []
   },
   "outputs": [],
   "source": [
    "# Test 4: Check if x2 has the correct values. This cell contains hidden tests. (1 mark)"
   ]
  },
  {
   "cell_type": "markdown",
   "id": "6234d19c-2825-4fa9-b0cf-28deacba8888",
   "metadata": {
    "deletable": false,
    "editable": false,
    "nbgrader": {
     "cell_type": "markdown",
     "checksum": "3745eb4eb0fbb7d609a2b1c9495a03fb",
     "grade": false,
     "grade_id": "cell-cadcb5949bffc250",
     "locked": true,
     "schema_version": 3,
     "solution": false,
     "task": false
    },
    "tags": []
   },
   "source": [
    "Plot with some of the exact values to verify your solution is correct."
   ]
  },
  {
   "cell_type": "code",
   "execution_count": 48,
   "id": "f422609a-1076-4c1c-b29d-4cc5714ef958",
   "metadata": {
    "deletable": false,
    "editable": false,
    "nbgrader": {
     "cell_type": "code",
     "checksum": "40f6ec7e1913aada63dfbfe1bf300259",
     "grade": false,
     "grade_id": "cell-481a0708081b72f8",
     "locked": true,
     "schema_version": 3,
     "solution": false,
     "task": false
    },
    "tags": []
   },
   "outputs": [
    {
     "data": {
      "image/png": "[encoded data removed]",
      "text/plain": [
       "<Figure size 640x480 with 1 Axes>"
      ]
     },
     "metadata": {},
     "output_type": "display_data"
    }
   ],
   "source": [
    "plt.plot(t,x2)\n",
    "plt.plot([0,1,2,3,4],[1.,0.50832599,0.06674067,-0.04226287,-0.02583322],'.')\n",
    "plt.plot([0,1,2,3,4],[-1.,0.11079377,0.17937937,0.05631478,-0.00188942],'.')\n",
    "plt.show()"
   ]
  },
  {
   "cell_type": "markdown",
   "id": "7069cd3a-3d27-40e1-ae48-69a4b41865e1",
   "metadata": {
    "deletable": false,
    "editable": false,
    "nbgrader": {
     "cell_type": "markdown",
     "checksum": "0251146980ae5182474c8d0b5255a88b",
     "grade": false,
     "grade_id": "cell-948e85880b04b18a",
     "locked": true,
     "schema_version": 3,
     "solution": false,
     "task": false
    },
    "tags": []
   },
   "source": [
    "And plot the trajectory with some of the exact values to verify your solution is correct."
   ]
  },
  {
   "cell_type": "code",
   "execution_count": 49,
   "id": "92c92f74-2a27-4178-a145-7370bfe6f095",
   "metadata": {
    "deletable": false,
    "editable": false,
    "nbgrader": {
     "cell_type": "code",
     "checksum": "961baa7ffe3f6bcb4d0c2d150e38c5a8",
     "grade": false,
     "grade_id": "cell-66ef5e82ef50a0fb",
     "locked": true,
     "schema_version": 3,
     "solution": false,
     "task": false
    },
    "tags": []
   },
   "outputs": [
    {
     "data": {
      "image/png": "[encoded data removed]",
      "text/plain": [
       "<Figure size 640x480 with 1 Axes>"
      ]
     },
     "metadata": {},
     "output_type": "display_data"
    }
   ],
   "source": [
    "plt.plot(x2[:,0],x2[:,1])\n",
    "plt.plot([1.,0.50832599,0.06674067,-0.04226287,-0.02583322],[-1.,0.11079377,0.17937937,0.05631478,-0.00188942],'.')\n",
    "plt.show()"
   ]
  },
  {
   "cell_type": "markdown",
   "id": "813b21ae-9132-4586-9a99-4f75ce3a5635",
   "metadata": {
    "deletable": false,
    "editable": false,
    "nbgrader": {
     "cell_type": "markdown",
     "checksum": "734328c58558ba447ccb606fd3602f06",
     "grade": false,
     "grade_id": "cell-5a6bd9b6705e68c1",
     "locked": true,
     "schema_version": 3,
     "solution": false,
     "task": false
    },
    "tags": []
   },
   "source": [
    "## Problem 3 (4 marks)\n",
    "\n",
    "Consider a system of 3 tanks containing salt water solution such that each tank contains $V$ litres of solution and each flows into the others at a rate $Q$ litres per minute. Let $M_1(t)$, $M_2(t)$, and $M_3(t)$ be the mass of salt in each tank at time $t$. Applying the principle of conservation of mass we find the system is described by equations\n",
    "\n",
    "$$\n",
    "\\begin{aligned}[t]\n",
    "\\frac{dM_1}{dt} &= \\frac{M_2}{V} Q + \\frac{M_3}{V} Q - 2\\frac{M_1}{V} Q \\\\\n",
    "\\frac{dM_2}{dt} &= \\frac{M_1}{V} Q + \\frac{M_3}{V} Q - 2\\frac{M_2}{V} Q \\\\\n",
    "\\frac{dM_3}{dt} &= \\frac{M_1}{V} Q + \\frac{M_2}{V} Q - 2\\frac{M_3}{V} Q\n",
    "\\end{aligned}\n",
    "$$\n",
    "\n",
    "Use the function `odeA` to compute the solution over the interval $0 \\leq t \\leq 40$ for $Q = 50$, $V = 1000$ and initial values $M_1(0) = 0$, $M_2(0) = 500$, and $M_3(0) = 100$. Use at least 4000 $t$ values. Save the solution as `M3`.\n",
    "\n",
    "The first column `M3[:,0]` corresponds to $M_1(t)$, the second column `M3[:,1]` corresponds to $M_2(t)$ and the third column `M3[:,2]` corresponds to $M_3(t)$."
   ]
  },
  {
   "cell_type": "code",
   "execution_count": 56,
   "id": "f8ece1b2-2e9d-4062-a806-8083748201ed",
   "metadata": {
    "deletable": false,
    "nbgrader": {
     "cell_type": "code",
     "checksum": "6eaa9710e70e22cd26040e97e5f3547f",
     "grade": false,
     "grade_id": "cell-dc0c53ff4a70434e",
     "locked": false,
     "schema_version": 3,
     "solution": true,
     "task": false
    },
    "tags": []
   },
   "outputs": [],
   "source": [
    "# YOUR CODE HERE\n",
    "A = np.array([[-1/10., 1/20., 1/20.], [1/20., -1/10., 1/20.], [1/20., 1/20., -1/10.]])\n",
    "x0= np.array([0.,500.,100.])\n",
    "t = np.linspace(0, 40, 4000)\n",
    "M3 = odeA(A, x0,t)"
   ]
  },
  {
   "cell_type": "code",
   "execution_count": 57,
   "id": "b1ff0983-bc47-43b3-8d6e-4668f894aaa8",
   "metadata": {
    "deletable": false,
    "editable": false,
    "nbgrader": {
     "cell_type": "code",
     "checksum": "d6df8fca4ee076c4208549251ddd528b",
     "grade": true,
     "grade_id": "cell-b0473bc93d3b37be",
     "locked": true,
     "points": 1,
     "schema_version": 3,
     "solution": false,
     "task": false
    },
    "tags": []
   },
   "outputs": [
    {
     "name": "stdout",
     "output_type": "stream",
     "text": [
      "Test 1: Success!\n"
     ]
    }
   ],
   "source": [
    "# Test 1: Check if M3 is a NumPy array. (1 mark)\n",
    "assert isinstance(M3,np.ndarray) , \"M3 should be a NumPy array.\"\n",
    "print(\"Test 1: Success!\")"
   ]
  },
  {
   "cell_type": "code",
   "execution_count": 58,
   "id": "e2fc6563-c75d-44c1-854d-0d218b8fcf09",
   "metadata": {
    "deletable": false,
    "editable": false,
    "nbgrader": {
     "cell_type": "code",
     "checksum": "23dd920a92e65124ee49de0405a99f11",
     "grade": true,
     "grade_id": "cell-56d934dc8059bbcc",
     "locked": true,
     "points": 1,
     "schema_version": 3,
     "solution": false,
     "task": false
    },
    "tags": []
   },
   "outputs": [
    {
     "name": "stdout",
     "output_type": "stream",
     "text": [
      "Test 2: Success!\n"
     ]
    }
   ],
   "source": [
    "# Test 2: Check if M3 is has 3 columns and at least 4000 rows. (1 mark)\n",
    "assert M3.shape[0] >= 4000 , \"M3 should have at least 4000 rows.\"\n",
    "assert M3.shape[1] == 3 , \"M3 should have 3 columns.\"\n",
    "print(\"Test 2: Success!\")"
   ]
  },
  {
   "cell_type": "code",
   "execution_count": 59,
   "id": "5a52ae96-765f-4552-be7c-73b09ee3e908",
   "metadata": {
    "deletable": false,
    "editable": false,
    "nbgrader": {
     "cell_type": "code",
     "checksum": "bf93ed41ef64d0c776255fba536ad8ce",
     "grade": true,
     "grade_id": "cell-1a71d6c558159f46",
     "locked": true,
     "points": 1,
     "schema_version": 3,
     "solution": false,
     "task": false
    },
    "tags": []
   },
   "outputs": [
    {
     "name": "stdout",
     "output_type": "stream",
     "text": [
      "Test 3: Success!\n"
     ]
    }
   ],
   "source": [
    "# Test 3: Check if M3 has the correct initial values and last values. (1 mark)\n",
    "assert np.allclose(M3[0,:],[0,500,100]) , \"First row of M3 should be [0,500,100].\"\n",
    "assert np.allclose(M3[-1,:],[199.50424956, 200.74362565, 199.75212478],rtol=0,atol=0.1) , \"Last row of M3 should be approximately [200,200,200].\"\n",
    "print(\"Test 3: Success!\")"
   ]
  },
  {
   "cell_type": "code",
   "execution_count": 60,
   "id": "e7fda38c-223e-453e-a818-76ce065b593a",
   "metadata": {
    "deletable": false,
    "editable": false,
    "nbgrader": {
     "cell_type": "code",
     "checksum": "10089134932b38eb8de7aba16532aab7",
     "grade": true,
     "grade_id": "cell-7e5728acb474d608",
     "locked": true,
     "points": 1,
     "schema_version": 3,
     "solution": false,
     "task": false
    },
    "tags": []
   },
   "outputs": [],
   "source": [
    "# Test 4: Check if M3 has the correct values. This cell contains hidden tests. (1 mark)"
   ]
  },
  {
   "cell_type": "markdown",
   "id": "ea6995da-363b-4ee5-9496-e9193a2ff824",
   "metadata": {
    "deletable": false,
    "editable": false,
    "nbgrader": {
     "cell_type": "markdown",
     "checksum": "edc6687f04564a204b90410ef82705a6",
     "grade": false,
     "grade_id": "cell-97bf0e45ef81fb7e",
     "locked": true,
     "schema_version": 3,
     "solution": false,
     "task": false
    },
    "tags": []
   },
   "source": [
    "*Reflection*: The symmetry of the tank system implies that the salt concentration in each tank should converge to the same value as $t \\to \\infty$. In particular, $M_1(t)$, $M_2(t)$ and $M_3(t)$ should all converge to\n",
    "\n",
    "$$\n",
    "\\frac{M_1(0) + M_2(0) + M_3(0)}{3}\n",
    "$$\n",
    "\n",
    "as $t \\to \\infty$. Does this statement agree with the figure below?"
   ]
  },
  {
   "cell_type": "code",
   "execution_count": 61,
   "id": "76871260-cc82-4e51-a1e3-85f10d798454",
   "metadata": {
    "deletable": false,
    "editable": false,
    "nbgrader": {
     "cell_type": "code",
     "checksum": "8670aee4d9c0366530bc8288a0fd1b6d",
     "grade": false,
     "grade_id": "cell-04d72b4587069840",
     "locked": true,
     "schema_version": 3,
     "solution": false,
     "task": false
    },
    "tags": []
   },
   "outputs": [
    {
     "ename": "NameError",
     "evalue": "name 'M' is not defined",
     "output_type": "error",
     "traceback": [
      "\u001b[0;31m---------------------------------------------------------------------------\u001b[0m",
      "\u001b[0;31mNameError\u001b[0m                                 Traceback (most recent call last)",
      "Cell \u001b[0;32mIn[61], line 1\u001b[0m\n\u001b[0;32m----> 1\u001b[0m plt\u001b[38;5;241m.\u001b[39mplot(t,\u001b[43mM\u001b[49m)\n\u001b[1;32m      2\u001b[0m plt\u001b[38;5;241m.\u001b[39mlegend([\u001b[38;5;124m'\u001b[39m\u001b[38;5;124m$M_1(t)$\u001b[39m\u001b[38;5;124m'\u001b[39m,\u001b[38;5;124m'\u001b[39m\u001b[38;5;124m$M_2(t)$\u001b[39m\u001b[38;5;124m'\u001b[39m,\u001b[38;5;124m'\u001b[39m\u001b[38;5;124m$M_3(t)$\u001b[39m\u001b[38;5;124m'\u001b[39m])\n\u001b[1;32m      3\u001b[0m plt\u001b[38;5;241m.\u001b[39mshow()\n",
      "\u001b[0;31mNameError\u001b[0m: name 'M' is not defined"
     ]
    }
   ],
   "source": [
    "plt.plot(t,M)\n",
    "plt.legend(['$M_1(t)$','$M_2(t)$','$M_3(t)$'])\n",
    "plt.show()"
   ]
  }
 ],
 "metadata": {
  "kernelspec": {
   "display_name": "Python 3 (ipykernel)",
   "language": "python",
   "name": "python3"
  },
  "language_info": {
   "codemirror_mode": {
    "name": "ipython",
    "version": 3
   },
   "file_extension": ".py",
   "mimetype": "text/x-python",
   "name": "python",
   "nbconvert_exporter": "python",
   "pygments_lexer": "ipython3",
   "version": "3.11.9"
  }
 },
 "nbformat": 4,
 "nbformat_minor": 5
}
